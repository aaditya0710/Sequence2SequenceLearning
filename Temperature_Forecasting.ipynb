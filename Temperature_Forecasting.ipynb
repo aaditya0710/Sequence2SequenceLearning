{
  "nbformat": 4,
  "nbformat_minor": 0,
  "metadata": {
    "colab": {
      "name": "Temperature-Forecasting.ipynb",
      "provenance": []
    },
    "kernelspec": {
      "name": "python3",
      "display_name": "Python 3"
    },
    "accelerator": "GPU"
  },
  "cells": [
    {
      "cell_type": "code",
      "metadata": {
        "id": "xJAe9YQ-c0Pz"
      },
      "source": [
        "import pandas as pd\n",
        "import matplotlib.pyplot as plt\n",
        "from pandas import DataFrame\n",
        "import numpy as np\n",
        "from keras.models import Sequential\n",
        "from keras.layers import Dense\n",
        "from keras.layers import LSTM\n",
        "from keras.layers import Dropout"
      ],
      "execution_count": 29,
      "outputs": []
    },
    {
      "cell_type": "code",
      "metadata": {
        "id": "03zeMsZmZyIO",
        "outputId": "af95b0d7-10cb-4b69-ecf7-2628e38bd822",
        "colab": {
          "base_uri": "https://localhost:8080/",
          "height": 199
        }
      },
      "source": [
        "df = pd.read_csv(\"/content/temp_india.csv\")\n",
        "df.head()"
      ],
      "execution_count": 2,
      "outputs": [
        {
          "output_type": "execute_result",
          "data": {
            "text/html": [
              "<div>\n",
              "<style scoped>\n",
              "    .dataframe tbody tr th:only-of-type {\n",
              "        vertical-align: middle;\n",
              "    }\n",
              "\n",
              "    .dataframe tbody tr th {\n",
              "        vertical-align: top;\n",
              "    }\n",
              "\n",
              "    .dataframe thead th {\n",
              "        text-align: right;\n",
              "    }\n",
              "</style>\n",
              "<table border=\"1\" class=\"dataframe\">\n",
              "  <thead>\n",
              "    <tr style=\"text-align: right;\">\n",
              "      <th></th>\n",
              "      <th>Temperature - (Celsius)</th>\n",
              "      <th>Year</th>\n",
              "      <th>Statistics</th>\n",
              "      <th>Country</th>\n",
              "      <th>ISO3</th>\n",
              "    </tr>\n",
              "  </thead>\n",
              "  <tbody>\n",
              "    <tr>\n",
              "      <th>0</th>\n",
              "      <td>16.6354</td>\n",
              "      <td>1991</td>\n",
              "      <td>Jan Average</td>\n",
              "      <td>India</td>\n",
              "      <td>IND</td>\n",
              "    </tr>\n",
              "    <tr>\n",
              "      <th>1</th>\n",
              "      <td>19.9880</td>\n",
              "      <td>1991</td>\n",
              "      <td>Feb Average</td>\n",
              "      <td>India</td>\n",
              "      <td>IND</td>\n",
              "    </tr>\n",
              "    <tr>\n",
              "      <th>2</th>\n",
              "      <td>24.1397</td>\n",
              "      <td>1991</td>\n",
              "      <td>Mar Average</td>\n",
              "      <td>India</td>\n",
              "      <td>IND</td>\n",
              "    </tr>\n",
              "    <tr>\n",
              "      <th>3</th>\n",
              "      <td>27.3468</td>\n",
              "      <td>1991</td>\n",
              "      <td>Apr Average</td>\n",
              "      <td>India</td>\n",
              "      <td>IND</td>\n",
              "    </tr>\n",
              "    <tr>\n",
              "      <th>4</th>\n",
              "      <td>30.1960</td>\n",
              "      <td>1991</td>\n",
              "      <td>May Average</td>\n",
              "      <td>India</td>\n",
              "      <td>IND</td>\n",
              "    </tr>\n",
              "  </tbody>\n",
              "</table>\n",
              "</div>"
            ],
            "text/plain": [
              "   Temperature - (Celsius)   Year    Statistics  Country  ISO3\n",
              "0                  16.6354   1991   Jan Average    India   IND\n",
              "1                  19.9880   1991   Feb Average    India   IND\n",
              "2                  24.1397   1991   Mar Average    India   IND\n",
              "3                  27.3468   1991   Apr Average    India   IND\n",
              "4                  30.1960   1991   May Average    India   IND"
            ]
          },
          "metadata": {
            "tags": []
          },
          "execution_count": 2
        }
      ]
    },
    {
      "cell_type": "code",
      "metadata": {
        "id": "zlH09W9Wdu4y",
        "outputId": "2218ae18-c8ea-424d-9b6a-9ef9490c9bcf",
        "colab": {
          "base_uri": "https://localhost:8080/",
          "height": 199
        }
      },
      "source": [
        "df.tail()"
      ],
      "execution_count": 3,
      "outputs": [
        {
          "output_type": "execute_result",
          "data": {
            "text/html": [
              "<div>\n",
              "<style scoped>\n",
              "    .dataframe tbody tr th:only-of-type {\n",
              "        vertical-align: middle;\n",
              "    }\n",
              "\n",
              "    .dataframe tbody tr th {\n",
              "        vertical-align: top;\n",
              "    }\n",
              "\n",
              "    .dataframe thead th {\n",
              "        text-align: right;\n",
              "    }\n",
              "</style>\n",
              "<table border=\"1\" class=\"dataframe\">\n",
              "  <thead>\n",
              "    <tr style=\"text-align: right;\">\n",
              "      <th></th>\n",
              "      <th>Temperature - (Celsius)</th>\n",
              "      <th>Year</th>\n",
              "      <th>Statistics</th>\n",
              "      <th>Country</th>\n",
              "      <th>ISO3</th>\n",
              "    </tr>\n",
              "  </thead>\n",
              "  <tbody>\n",
              "    <tr>\n",
              "      <th>307</th>\n",
              "      <td>26.8598</td>\n",
              "      <td>2016</td>\n",
              "      <td>Aug Average</td>\n",
              "      <td>India</td>\n",
              "      <td>IND</td>\n",
              "    </tr>\n",
              "    <tr>\n",
              "      <th>308</th>\n",
              "      <td>26.7470</td>\n",
              "      <td>2016</td>\n",
              "      <td>Sep Average</td>\n",
              "      <td>India</td>\n",
              "      <td>IND</td>\n",
              "    </tr>\n",
              "    <tr>\n",
              "      <th>309</th>\n",
              "      <td>25.3020</td>\n",
              "      <td>2016</td>\n",
              "      <td>Oct Average</td>\n",
              "      <td>India</td>\n",
              "      <td>IND</td>\n",
              "    </tr>\n",
              "    <tr>\n",
              "      <th>310</th>\n",
              "      <td>21.2987</td>\n",
              "      <td>2016</td>\n",
              "      <td>Nov Average</td>\n",
              "      <td>India</td>\n",
              "      <td>IND</td>\n",
              "    </tr>\n",
              "    <tr>\n",
              "      <th>311</th>\n",
              "      <td>18.8905</td>\n",
              "      <td>2016</td>\n",
              "      <td>Dec Average</td>\n",
              "      <td>India</td>\n",
              "      <td>IND</td>\n",
              "    </tr>\n",
              "  </tbody>\n",
              "</table>\n",
              "</div>"
            ],
            "text/plain": [
              "     Temperature - (Celsius)   Year    Statistics  Country  ISO3\n",
              "307                  26.8598   2016   Aug Average    India   IND\n",
              "308                  26.7470   2016   Sep Average    India   IND\n",
              "309                  25.3020   2016   Oct Average    India   IND\n",
              "310                  21.2987   2016   Nov Average    India   IND\n",
              "311                  18.8905   2016   Dec Average    India   IND"
            ]
          },
          "metadata": {
            "tags": []
          },
          "execution_count": 3
        }
      ]
    },
    {
      "cell_type": "code",
      "metadata": {
        "id": "NaTeR123uwF2",
        "outputId": "372bee7b-1c8f-454e-abe2-9142ced72b8f",
        "colab": {
          "base_uri": "https://localhost:8080/"
        }
      },
      "source": [
        "train_set = []\n",
        "test_set = []\n",
        "i=0\n",
        "while(df[' Year'][i]<2012):\n",
        "  train_set.append(df['Temperature - (Celsius)'][i])\n",
        "  i+=1\n",
        "j=i\n",
        "while(j<311):\n",
        "  test_set.append(df['Temperature - (Celsius)'][j])\n",
        "  j+=1\n",
        "print(len(train_set),len(test_set))"
      ],
      "execution_count": 10,
      "outputs": [
        {
          "output_type": "stream",
          "text": [
            "252 59\n"
          ],
          "name": "stdout"
        }
      ]
    },
    {
      "cell_type": "code",
      "metadata": {
        "id": "nSidhuF2wkqJ"
      },
      "source": [
        "df_train_set = DataFrame(train_set,columns=['train_set'])"
      ],
      "execution_count": 17,
      "outputs": []
    },
    {
      "cell_type": "code",
      "metadata": {
        "id": "pZ8ka9KkiVv5"
      },
      "source": [
        "X_train = []\n",
        "y_train = []\n",
        "for i in range(12,252):\n",
        "    X_train.append(df_train_set['train_set'][i-12:i])\n",
        "    y_train.append(df_train_set['train_set'][i]) \n",
        "X_train, y_train = np.array(X_train), np.array(y_train)\n",
        "X_train = np.reshape(X_train, (X_train.shape[0], X_train.shape[1], 1))"
      ],
      "execution_count": 25,
      "outputs": []
    },
    {
      "cell_type": "code",
      "metadata": {
        "id": "MS1Nk2bHlYN_"
      },
      "source": [
        "regressor = Sequential()\n",
        "regressor.add(LSTM(units = 50, return_sequences = True, input_shape = (X_train.shape[1], 1)))\n",
        "regressor.add(Dropout(0.2))\n",
        "regressor.add(LSTM(units = 50, return_sequences = True))\n",
        "regressor.add(Dropout(0.2))\n",
        "regressor.add(LSTM(units = 50, return_sequences = True))\n",
        "regressor.add(Dropout(0.2))\n",
        "regressor.add(LSTM(units = 50))\n",
        "regressor.add(Dropout(0.2))\n",
        "regressor.add(Dense(units = 1))\n",
        "\n",
        "regressor.compile(optimizer = 'RMSprop', loss = 'mean_squared_error')\n"
      ],
      "execution_count": 37,
      "outputs": []
    },
    {
      "cell_type": "code",
      "metadata": {
        "id": "OdGXRanZmM0L"
      },
      "source": [
        "regressor.fit(X_train, y_train, epochs = 200, batch_size = 32)"
      ],
      "execution_count": null,
      "outputs": []
    },
    {
      "cell_type": "code",
      "metadata": {
        "id": "kwY-TZVy0hjt"
      },
      "source": [
        "df_test_set = DataFrame(test_set,columns=['test_set'])"
      ],
      "execution_count": 39,
      "outputs": []
    },
    {
      "cell_type": "code",
      "metadata": {
        "id": "hQSYkhrW-pDS"
      },
      "source": [
        "X_test = []\n",
        "y_test = []\n",
        "for i in range(12,59):\n",
        "    X_test.append(df_test_set['test_set'][i-12:i])\n",
        "    y_test.append(df_test_set['test_set'][i]) \n",
        "X_test, y_test = np.array(X_test), np.array(y_test)\n",
        "X_test = np.reshape(X_test, (X_test.shape[0], X_test.shape[1], 1))"
      ],
      "execution_count": 40,
      "outputs": []
    },
    {
      "cell_type": "code",
      "metadata": {
        "id": "MNbr0SUu_q3y"
      },
      "source": [
        "predicted_temperature = regressor.predict(X_test)"
      ],
      "execution_count": 41,
      "outputs": []
    },
    {
      "cell_type": "code",
      "metadata": {
        "id": "azBhkuM3_zmP",
        "outputId": "38c94460-81b2-4f26-ee9e-49fd27692006",
        "colab": {
          "base_uri": "https://localhost:8080/",
          "height": 296
        }
      },
      "source": [
        "plt.xlabel(\"time(months) ->\")\n",
        "plt.ylabel(\"Temperature (Celcius)\")\n",
        "plt.plot(y_test,color='green')\n",
        "plt.plot(predicted_temperature,color='red')"
      ],
      "execution_count": 44,
      "outputs": [
        {
          "output_type": "execute_result",
          "data": {
            "text/plain": [
              "[<matplotlib.lines.Line2D at 0x7f24a422b198>]"
            ]
          },
          "metadata": {
            "tags": []
          },
          "execution_count": 44
        },
        {
          "output_type": "display_data",
          "data": {
            "image/png": "[encoded data removed]",
            "text/plain": [
              "<Figure size 432x288 with 1 Axes>"
            ]
          },
          "metadata": {
            "tags": [],
            "needs_background": "light"
          }
        }
      ]
    },
    {
      "cell_type": "code",
      "metadata": {
        "id": "7FDh8fRE_1gW"
      },
      "source": [
        ""
      ],
      "execution_count": null,
      "outputs": []
    }
  ]
}